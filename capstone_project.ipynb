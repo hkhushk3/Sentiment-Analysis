{
 "cells": [
  {
   "cell_type": "code",
   "execution_count": 38,
   "metadata": {
    "collapsed": false
   },
   "outputs": [
    {
     "data": {
      "text/html": [
       "<div>\n",
       "<table border=\"1\" class=\"dataframe\">\n",
       "  <thead>\n",
       "    <tr style=\"text-align: right;\">\n",
       "      <th></th>\n",
       "      <th>review</th>\n",
       "      <th>sentiment</th>\n",
       "    </tr>\n",
       "  </thead>\n",
       "  <tbody>\n",
       "    <tr>\n",
       "      <th>2990</th>\n",
       "      <td>The opening sequence of this gem is a classic,...</td>\n",
       "      <td>1</td>\n",
       "    </tr>\n",
       "    <tr>\n",
       "      <th>2991</th>\n",
       "      <td>Fans of the genre will be in heaven.</td>\n",
       "      <td>1</td>\n",
       "    </tr>\n",
       "    <tr>\n",
       "      <th>2992</th>\n",
       "      <td>Lange had become a great actress.</td>\n",
       "      <td>1</td>\n",
       "    </tr>\n",
       "    <tr>\n",
       "      <th>2993</th>\n",
       "      <td>It looked like a wonderful story.</td>\n",
       "      <td>1</td>\n",
       "    </tr>\n",
       "    <tr>\n",
       "      <th>2994</th>\n",
       "      <td>I never walked out of a movie faster.</td>\n",
       "      <td>0</td>\n",
       "    </tr>\n",
       "    <tr>\n",
       "      <th>2995</th>\n",
       "      <td>I just got bored watching Jessice Lange take h...</td>\n",
       "      <td>0</td>\n",
       "    </tr>\n",
       "    <tr>\n",
       "      <th>2996</th>\n",
       "      <td>Unfortunately, any virtue in this film's produ...</td>\n",
       "      <td>0</td>\n",
       "    </tr>\n",
       "    <tr>\n",
       "      <th>2997</th>\n",
       "      <td>In a word, it is embarrassing.</td>\n",
       "      <td>0</td>\n",
       "    </tr>\n",
       "    <tr>\n",
       "      <th>2998</th>\n",
       "      <td>Exceptionally bad!</td>\n",
       "      <td>0</td>\n",
       "    </tr>\n",
       "    <tr>\n",
       "      <th>2999</th>\n",
       "      <td>All in all its an insult to one's intelligence...</td>\n",
       "      <td>0</td>\n",
       "    </tr>\n",
       "  </tbody>\n",
       "</table>\n",
       "</div>"
      ],
      "text/plain": [
       "                                                 review  sentiment\n",
       "2990  The opening sequence of this gem is a classic,...          1\n",
       "2991             Fans of the genre will be in heaven.            1\n",
       "2992                Lange had become a great actress.            1\n",
       "2993                It looked like a wonderful story.            1\n",
       "2994            I never walked out of a movie faster.            0\n",
       "2995  I just got bored watching Jessice Lange take h...          0\n",
       "2996  Unfortunately, any virtue in this film's produ...          0\n",
       "2997                   In a word, it is embarrassing.            0\n",
       "2998                               Exceptionally bad!            0\n",
       "2999  All in all its an insult to one's intelligence...          0"
      ]
     },
     "execution_count": 38,
     "metadata": {},
     "output_type": "execute_result"
    }
   ],
   "source": [
    "import pandas as pd\n",
    "df_amazon = pd.read_csv('amazon_cells_labelled.csv', names = ['review', 'sentiment']) #read the reviews from file\n",
    "df_yelp = pd.read_csv('yelp_labelled.csv', names = ['review', 'sentiment']) #read the reviews from file\n",
    "df_imdb = pd.read_csv('imdb_labelled.csv', names = ['review', 'sentiment']) #read the reviews from file\n",
    "df_total = pd.concat([df_amazon, df_yelp, df_imdb], ignore_index = True) #concatenate the three dataframes into one\n",
    "df_total.tail(n=10) #make sure we have all 3000 reviews"
   ]
  },
  {
   "cell_type": "code",
   "execution_count": 39,
   "metadata": {
    "collapsed": false
   },
   "outputs": [
    {
     "name": "stdout",
     "output_type": "stream",
     "text": [
      "Original review: I've bought $5 wired headphones that sound better than these.\n",
      "Review after preprocessing: i ve bought wire headphon that sound better than these\n"
     ]
    }
   ],
   "source": [
    "import re #regular expressions package\n",
    "from nltk.stem.snowball import SnowballStemmer #Snowball Stemmer from NLTK library\n",
    "\n",
    "snowball_stemmer = SnowballStemmer('english', ignore_stopwords = True) #use English snowball stemmer and ignore stop words\n",
    "review_data = []\n",
    "\n",
    "for i in xrange(0,len(df_total['review'])):\n",
    "    review_text = re.sub(\"[^a-zA-Z]\",\" \", df_total['review'][i]) #substitute non alphabet characters with spaces\n",
    "    words = review_text.lower().split() #convert upper cases into lower cases, and split individual words and make them into a list\n",
    "    stemmed_words = [snowball_stemmer.stem(word) for word in words] #apply English snowball stemming on each word\n",
    "    review_data.append(' '.join(stemmed_words)) #join the stemmed words back into sentences, and make a list of reviews\n",
    "    \n",
    "print('Original review: {}'.format(df_total['review'][154]))\n",
    "print('Review after preprocessing: {}'.format(review_data[154]))"
   ]
  },
  {
   "cell_type": "code",
   "execution_count": 188,
   "metadata": {
    "collapsed": false
   },
   "outputs": [
    {
     "name": "stdout",
     "output_type": "stream",
     "text": [
      "Shape of the TF-IDF transformed data is: (3000, 2570)\n",
      "Number of nonzero elements in the TF-IDF matrix is: 17327\n",
      "This represents only 0.224734111543% of entries in matrix\n",
      "Among the non zero entries, Min: 0.105609921309, Max: 1.0, Mean: 0.386622708681, Std: 0.15022154459\n",
      "An example review in transformed space: \n",
      "  (0, 2065)\t0.303743518298\n",
      "  (0, 234)\t0.360915754887\n",
      "  (0, 2410)\t0.296365014582\n",
      "  (0, 1027)\t0.427419380975\n",
      "  (0, 193)\t0.306028099206\n",
      "  (0, 2506)\t0.447787461729\n",
      "  (0, 2066)\t0.461295280141\n",
      "In this example, only 7 features out of 2570 have nonzero values \n"
     ]
    },
    {
     "data": {
      "image/png": "[encoded data removed]",
      "text/plain": [
       "<matplotlib.figure.Figure at 0xea9f9b0>"
      ]
     },
     "metadata": {},
     "output_type": "display_data"
    },
    {
     "data": {
      "image/png": "[encoded data removed]",
      "text/plain": [
       "<matplotlib.figure.Figure at 0xf7000b8>"
      ]
     },
     "metadata": {},
     "output_type": "display_data"
    }
   ],
   "source": [
    "from sklearn.feature_extraction.text import TfidfVectorizer as TFIV\n",
    "import numpy as np\n",
    "import matplotlib.pyplot as plt\n",
    "\n",
    "tfv = TFIV(strip_accents='unicode', analyzer='word', token_pattern=r'\\w{1,}',\n",
    "        ngram_range=(1, 2), use_idf=1, smooth_idf=1, sublinear_tf=1, min_df = 2,\n",
    "        stop_words = 'english') \n",
    "\n",
    "review_data_tfidf = tfv.fit_transform(review_data) #apply tf-idf transformation on the preprocessed data\n",
    "print('Shape of the TF-IDF transformed data is: {}'.format(review_data_tfidf.shape)) #dimension of the transformed data\n",
    "print('Number of nonzero elements in the TF-IDF matrix is: {}'.format(len(review_data_tfidf.data)))\n",
    "print('This represents only {}% of entries in matrix'.format((len(review_data_tfidf.data)*100.0)/(review_data_tfidf.shape[0]*review_data_tfidf.shape[1])))\n",
    "print('Among the non zero entries, Min: {}, Max: {}, Mean: {}, Std: {}'.format(np.amin(review_data_tfidf.data), np.amax(review_data_tfidf.data), np.mean(review_data_tfidf.data), np.std(review_data_tfidf.data)))\n",
    "print('An example review in transformed space: ') #one example review after transformation\n",
    "print(review_data_tfidf[154])\n",
    "print('In this example, only {} features out of {} have nonzero values '.format(len(review_data_tfidf[154].data), review_data_tfidf.shape[1]))\n",
    "#print(tfv.idf_[155])\n",
    "#print(len(review_data_tfidf[:,1].data))\n",
    "feature_use_count = []\n",
    "for feature in range(review_data_tfidf.shape[1]): #for each feature out of 2574 features\n",
    "    feature_use_count.append( np.count_nonzero(review_data_tfidf.todense()[:,feature]) ) #count the number of examples it is used i.e. is non zero \n",
    "#in other words, for each column (feature), count the number of rows that have nonzero values\n",
    "\n",
    "fig, ax = plt.subplots(figsize=(10,6)) #size the plot appropriately\n",
    "plt.plot(feature_use_count)\n",
    "plt.title(\"Number of examples in which features are used\")\n",
    "plt.xlabel('Feature')\n",
    "plt.ylabel('Number of examples')\n",
    "plt.show()\n",
    "\n",
    "fig, ax = plt.subplots(figsize=(10,6))\n",
    "bins = np.linspace(2, 20, 18, endpoint=True)\n",
    "plt.hist(feature_use_count, bins)\n",
    "ax.set_xlim([2, 20])\n",
    "plt.title(\"Histogram of feature usage\")\n",
    "plt.xlabel(\"Feature use\")\n",
    "plt.ylabel(\"Number of features\")\n",
    "plt.show()"
   ]
  },
  {
   "cell_type": "code",
   "execution_count": 186,
   "metadata": {
    "collapsed": false
   },
   "outputs": [],
   "source": [
    "from sklearn.model_selection import train_test_split\n",
    "X_train, X_test, y_train, y_test = train_test_split(review_data_tfidf, df_total['sentiment'], test_size=0.2, random_state=42, stratify = df_total['sentiment'])\n",
    "#using stratify to keep same proportion of 1s and 0s in training and testing sets\n"
   ]
  },
  {
   "cell_type": "code",
   "execution_count": 140,
   "metadata": {
    "collapsed": false
   },
   "outputs": [
    {
     "name": "stdout",
     "output_type": "stream",
     "text": [
      "Accuracy on training data is: 0.928333333333\n",
      "Accuracy on testing data is: 0.82\n",
      "Training time is: 0.0629999637604\n"
     ]
    }
   ],
   "source": [
    "from sklearn.linear_model import LogisticRegression as LR\n",
    "import time\n",
    "\n",
    "model_LR = LR(dual = True, random_state = 0) \n",
    "start = time.time()                            \n",
    "model_LR.fit(X_train, y_train) # Fit the model\n",
    "end = time.time()\n",
    "\n",
    "print('Accuracy on training data is: {}'.format(model_LR.score(X_train, y_train)))\n",
    "print('Accuracy on testing data is: {}'.format(model_LR.score(X_test, y_test)))\n",
    "print('Training time is: {}'.format(end - start))"
   ]
  },
  {
   "cell_type": "code",
   "execution_count": 141,
   "metadata": {
    "collapsed": false
   },
   "outputs": [
    {
     "name": "stdout",
     "output_type": "stream",
     "text": [
      "Accuracy for each grid value: [mean: 0.81875, std: 0.03183, params: {'C': 1}, mean: 0.81583, std: 0.03322, params: {'C': 10}, mean: 0.79792, std: 0.03280, params: {'C': 100}, mean: 0.79125, std: 0.03410, params: {'C': 1000}]\n",
      "Best model is: LogisticRegression(C=1, class_weight=None, dual=True, fit_intercept=True,\n",
      "          intercept_scaling=1, max_iter=100, multi_class='ovr', n_jobs=1,\n",
      "          penalty='l2', random_state=0, solver='liblinear', tol=0.0001,\n",
      "          verbose=0, warm_start=False)\n",
      "Testing set accuracy of the best model is: 0.82\n"
     ]
    }
   ],
   "source": [
    "from sklearn.grid_search import GridSearchCV\n",
    "\n",
    "grid_values = {'C':[1, 10, 100, 1000]} # Decide which settings you want for the grid search. \n",
    "\n",
    "model_LR_refined = GridSearchCV(LR(dual = True, random_state = 0), grid_values, cv = 20)  \n",
    "\n",
    "model_LR_refined.fit(X_train, y_train)\n",
    "\n",
    "print('Accuracy for each grid value: {}'.format(model_LR_refined.grid_scores_)) # print the scores for each grid value\n",
    "print('Best model is: {}'.format(model_LR_refined.best_estimator_))\n",
    "print('Testing set accuracy of the best model is: {}'.format(model_LR_refined.best_estimator_.score(X_test, y_test)))"
   ]
  },
  {
   "cell_type": "code",
   "execution_count": 194,
   "metadata": {
    "collapsed": false
   },
   "outputs": [
    {
     "name": "stdout",
     "output_type": "stream",
     "text": [
      "Training time is: 0.00300002098083\n",
      "Accuracy on training data is: 0.925416666667\n",
      "Accuracy on testing data is: 0.825\n"
     ]
    }
   ],
   "source": [
    "from sklearn.naive_bayes import MultinomialNB as MNB\n",
    "\n",
    "\n",
    "model_NB = MNB() #declare the model\n",
    "start = time.time()\n",
    "model_NB.fit(X_train, y_train) #fit the model to the training data\n",
    "end = time.time()\n",
    "print('Training time is: {}'.format(end - start))\n",
    "print('Accuracy on training data is: {}'.format(model_NB.score(X_train, y_train)))\n",
    "print('Accuracy on testing data is: {}'.format(model_NB.score(X_test, y_test)))"
   ]
  },
  {
   "cell_type": "code",
   "execution_count": 195,
   "metadata": {
    "collapsed": false
   },
   "outputs": [
    {
     "name": "stdout",
     "output_type": "stream",
     "text": [
      "Training time is: 0.963999986649\n",
      "Accuracy on training data is: 0.987916666667\n",
      "Accuracy on testing data is: 0.798333333333\n"
     ]
    }
   ],
   "source": [
    "from sklearn.ensemble import RandomForestClassifier as RFC\n",
    "\n",
    "model_RFC = RFC(random_state = 0) #declare the model with a random state\n",
    "start = time.time()\n",
    "model_RFC.fit(X_train, y_train) #fit the model to the training data\n",
    "end = time.time()\n",
    "\n",
    "print('Training time is: {}'.format(end - start))\n",
    "print('Accuracy on training data is: {}'.format(model_RFC.score(X_train, y_train)))\n",
    "print('Accuracy on testing data is: {}'.format(model_RFC.score(X_test, y_test)))"
   ]
  },
  {
   "cell_type": "code",
   "execution_count": 196,
   "metadata": {
    "collapsed": false
   },
   "outputs": [
    {
     "data": {
      "text/plain": [
       "[mean: 0.76167, std: 0.03178, params: {'n_estimators': 10},\n",
       " mean: 0.79292, std: 0.02639, params: {'n_estimators': 100},\n",
       " mean: 0.79333, std: 0.02746, params: {'n_estimators': 200}]"
      ]
     },
     "execution_count": 196,
     "metadata": {},
     "output_type": "execute_result"
    }
   ],
   "source": [
    "grid_values = {'n_estimators':[10, 100, 200]} #search over three values of n_estimators\n",
    "model_RFC_refined = GridSearchCV(RFC(random_state = 0), grid_values, cv = 20)\n",
    "model_RFC_refined.fit(X_train, y_train)\n",
    "model_RFC_refined.grid_scores_"
   ]
  },
  {
   "cell_type": "code",
   "execution_count": 212,
   "metadata": {
    "collapsed": false
   },
   "outputs": [
    {
     "name": "stdout",
     "output_type": "stream",
     "text": [
      "Best model is: RandomForestClassifier(bootstrap=True, class_weight=None, criterion='gini',\n",
      "            max_depth=None, max_features='auto', max_leaf_nodes=None,\n",
      "            min_impurity_split=1e-07, min_samples_leaf=1,\n",
      "            min_samples_split=2, min_weight_fraction_leaf=0.0,\n",
      "            n_estimators=200, n_jobs=1, oob_score=False, random_state=0,\n",
      "            verbose=0, warm_start=False)\n",
      "Testing set accuracy of the best model is: 0.803333333333\n"
     ]
    }
   ],
   "source": [
    "print('Best model is: {}'.format(model_RFC_refined.best_estimator_))\n",
    "print('Testing set accuracy of the best model is: {}'.format(model_RFC_refined.best_estimator_.score(X_test, y_test)))\n",
    "#model_RFC_refined.best_estimator_.score(X_test, y_test)"
   ]
  },
  {
   "cell_type": "code",
   "execution_count": 211,
   "metadata": {
    "collapsed": false
   },
   "outputs": [
    {
     "name": "stdout",
     "output_type": "stream",
     "text": [
      "Training time is: 0.598999977112\n",
      "Accuracy on training data is: 0.62625\n",
      "Accuracy on testing data is: 0.62\n"
     ]
    }
   ],
   "source": [
    "from sklearn.svm import SVC\n",
    "\n",
    "model_SVM = SVC(random_state = 0) #declare the model with a random state\n",
    "start = time.time()\n",
    "model_SVM.fit(X_train, y_train) #fit the model to the training data\n",
    "end = time.time()\n",
    "print('Training time is: {}'.format(end - start))\n",
    "print('Accuracy on training data is: {}'.format(model_SVM.score(X_train, y_train)))\n",
    "print('Accuracy on testing data is: {}'.format(model_SVM.score(X_test, y_test)))"
   ]
  },
  {
   "cell_type": "code",
   "execution_count": 215,
   "metadata": {
    "collapsed": false
   },
   "outputs": [
    {
     "data": {
      "text/plain": [
       "[mean: 0.61583, std: 0.04772, params: {'gamma': 0.01},\n",
       " mean: 0.80708, std: 0.03821, params: {'gamma': 0.1},\n",
       " mean: 0.81917, std: 0.04041, params: {'gamma': 1},\n",
       " mean: 0.56500, std: 0.03714, params: {'gamma': 10}]"
      ]
     },
     "execution_count": 215,
     "metadata": {},
     "output_type": "execute_result"
    }
   ],
   "source": [
    "from sklearn.svm import SVC\n",
    "grid_values = {'gamma':[.01, .1, 1, 10]} #search over these gamma values  \n",
    "model_SVM_refined = GridSearchCV(SVC(random_state = 0), grid_values, cv = 20)\n",
    "model_SVM_refined.fit(X_train, y_train)\n",
    "model_SVM_refined.grid_scores_"
   ]
  },
  {
   "cell_type": "code",
   "execution_count": 216,
   "metadata": {
    "collapsed": false
   },
   "outputs": [
    {
     "name": "stdout",
     "output_type": "stream",
     "text": [
      "Testing set accuracy of the best model is: 0.818333333333\n"
     ]
    }
   ],
   "source": [
    "print('Testing set accuracy of the best model is: {}'.format(model_SVM_refined.best_estimator_.score(X_test, y_test)))"
   ]
  },
  {
   "cell_type": "code",
   "execution_count": 219,
   "metadata": {
    "collapsed": true
   },
   "outputs": [],
   "source": [
    "#copied over from http://scikit-learn.org/stable/auto_examples/model_selection/plot_confusion_matrix.html#sphx-glr-auto-examples-model-selection-plot-confusion-matrix-py\n",
    "\n",
    "import itertools\n",
    "def plot_confusion_matrix(cm, classes,\n",
    "                          normalize=False,\n",
    "                          title='Confusion matrix',\n",
    "                          cmap=plt.cm.Blues):\n",
    "    \"\"\"\n",
    "    This function prints and plots the confusion matrix.\n",
    "    Normalization can be applied by setting `normalize=True`.\n",
    "    \"\"\"\n",
    "    plt.imshow(cm, interpolation='nearest', cmap=cmap)\n",
    "    plt.title(title)\n",
    "    plt.colorbar()\n",
    "    tick_marks = np.arange(len(classes))\n",
    "    plt.xticks(tick_marks, classes, rotation=45)\n",
    "    plt.yticks(tick_marks, classes)\n",
    "\n",
    "    if normalize:\n",
    "        cm = cm.astype('float') / cm.sum(axis=1)[:, np.newaxis]\n",
    "        print(\"Normalized confusion matrix\")\n",
    "    else:\n",
    "        print('Confusion matrix, without normalization')\n",
    "\n",
    "    print(cm)\n",
    "\n",
    "    thresh = cm.max() / 2.\n",
    "    for i, j in itertools.product(range(cm.shape[0]), range(cm.shape[1])):\n",
    "        plt.text(j, i, cm[i, j],\n",
    "                 horizontalalignment=\"center\",\n",
    "                 color=\"white\" if cm[i, j] > thresh else \"black\")\n",
    "\n",
    "    plt.tight_layout()\n",
    "    plt.ylabel('True label')\n",
    "    plt.xlabel('Predicted label')"
   ]
  },
  {
   "cell_type": "code",
   "execution_count": 221,
   "metadata": {
    "collapsed": false
   },
   "outputs": [
    {
     "name": "stdout",
     "output_type": "stream",
     "text": [
      "Confusion matrix, without normalization\n",
      "[[249  51]\n",
      " [ 54 246]]\n",
      "Normalized confusion matrix\n",
      "[[ 0.83  0.17]\n",
      " [ 0.18  0.82]]\n"
     ]
    },
    {
     "data": {
      "image/png": "[encoded data removed]",
      "text/plain": [
       "<matplotlib.figure.Figure at 0x14c38eb8>"
      ]
     },
     "metadata": {},
     "output_type": "display_data"
    },
    {
     "data": {
      "image/png": "[encoded data removed]",
      "text/plain": [
       "<matplotlib.figure.Figure at 0x14c1bc18>"
      ]
     },
     "metadata": {},
     "output_type": "display_data"
    }
   ],
   "source": [
    "from sklearn.metrics import confusion_matrix\n",
    "y_pred = model_NB.predict(X_test)\n",
    "class_names = ['positive', 'negative']\n",
    "\n",
    "# Compute confusion matrix\n",
    "cnf_matrix = confusion_matrix(y_test, y_pred)\n",
    "np.set_printoptions(precision=2)\n",
    "\n",
    "# Plot non-normalized confusion matrix\n",
    "plt.figure()\n",
    "plot_confusion_matrix(cnf_matrix, classes=class_names,\n",
    "                      title='Confusion matrix, without normalization')\n",
    "\n",
    "# Plot normalized confusion matrix\n",
    "plt.figure()\n",
    "plot_confusion_matrix(cnf_matrix, classes=class_names, normalize=True,\n",
    "                      title='Normalized confusion matrix')\n",
    "\n",
    "plt.show()"
   ]
  },
  {
   "cell_type": "code",
   "execution_count": null,
   "metadata": {
    "collapsed": true
   },
   "outputs": [],
   "source": []
  }
 ],
 "metadata": {
  "kernelspec": {
   "display_name": "Python 2",
   "language": "python",
   "name": "python2"
  },
  "language_info": {
   "codemirror_mode": {
    "name": "ipython",
    "version": 2
   },
   "file_extension": ".py",
   "mimetype": "text/x-python",
   "name": "python",
   "nbconvert_exporter": "python",
   "pygments_lexer": "ipython2",
   "version": "2.7.13"
  }
 },
 "nbformat": 4,
 "nbformat_minor": 2
}
